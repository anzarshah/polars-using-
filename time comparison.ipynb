{
 "cells": [
  {
   "cell_type": "markdown",
   "id": "a7e0d33d-83b8-474c-a2d0-59367a16f752",
   "metadata": {},
   "source": [
    "#### Installing the dependencies "
   ]
  },
  {
   "cell_type": "code",
   "execution_count": 1,
   "id": "1eefd2dd-239f-423c-a33e-8950951f2b5f",
   "metadata": {},
   "outputs": [
    {
     "name": "stdout",
     "output_type": "stream",
     "text": [
      "Requirement already satisfied: pandas in c:\\users\\shaha\\anaconda3\\lib\\site-packages (1.5.3)Note: you may need to restart the kernel to use updated packages.\n",
      "Requirement already satisfied: polars in c:\\users\\shaha\\anaconda3\\lib\\site-packages (1.2.1)\n",
      "Requirement already satisfied: python-dateutil>=2.8.1 in c:\\users\\shaha\\anaconda3\\lib\\site-packages (from pandas) (2.8.2)\n",
      "\n",
      "Requirement already satisfied: pytz>=2020.1 in c:\\users\\shaha\\anaconda3\\lib\\site-packages (from pandas) (2021.3)\n",
      "Requirement already satisfied: numpy>=1.20.3 in c:\\users\\shaha\\anaconda3\\lib\\site-packages (from pandas) (1.24.2)\n",
      "Requirement already satisfied: six>=1.5 in c:\\users\\shaha\\anaconda3\\lib\\site-packages (from python-dateutil>=2.8.1->pandas) (1.16.0)\n"
     ]
    }
   ],
   "source": [
    "%pip install pandas polars\n"
   ]
  },
  {
   "cell_type": "code",
   "execution_count": 8,
   "id": "fdd7989c-c29d-44d6-97a6-4bba9c4c5e07",
   "metadata": {},
   "outputs": [],
   "source": [
    "import pandas as pd\n",
    "import polars as pl\n",
    "import time\n"
   ]
  },
  {
   "cell_type": "code",
   "execution_count": 9,
   "id": "71b3448a-3457-45b8-8379-fa767a4194c1",
   "metadata": {},
   "outputs": [],
   "source": [
    "# Load the dataset\n",
    "file_path = 'movies_dataset.csv'  # Replace with your actual CSV file path\n",
    "df_pandas = pd.read_csv(file_path)\n",
    "df_polars = pl.read_csv(file_path)\n"
   ]
  },
  {
   "cell_type": "code",
   "execution_count": 10,
   "id": "6916c0bd-e752-413e-a71a-586fc7858138",
   "metadata": {},
   "outputs": [],
   "source": []
  },
  {
   "cell_type": "code",
   "execution_count": 29,
   "id": "44379bbd-d675-408d-b7ed-1ebaac70f460",
   "metadata": {},
   "outputs": [],
   "source": [
    "# Assuming df_pandas is already loaded\n",
    "# Timing for Pandas\n",
    "start_pandas = time.time()\n",
    "result_pandas = df_pandas[df_pandas[\"Rating\"] >= 4][[\"Genre\", \"Rating\"]]  # Filter and select specific columns\n",
    "end_pandas = time.time()"
   ]
  },
  {
   "cell_type": "code",
   "execution_count": 24,
   "id": "410b858d-c2d9-46f3-b106-28adf007d4cf",
   "metadata": {},
   "outputs": [],
   "source": [
    "\n",
    "# Timing for Polars\n",
    "start_polars = time.time()\n",
    "result_polars = (\n",
    "    df_polars.lazy()  # Start with LazyFrame\n",
    "    .filter(pl.col(\"Rating\") >= 4)  # Filter rows where Rating >= 4\n",
    "    .select([\"Genre\", \"Rating\"])  # Select only Genre and Rating columns\n",
    "    .collect()  # Collect into a DataFrame (convert LazyFrame to DataFrame)\n",
    ")\n",
    "end_polars = time.time()"
   ]
  },
  {
   "cell_type": "code",
   "execution_count": 31,
   "id": "a4303f98-cd78-4c2e-bde7-857d95431442",
   "metadata": {},
   "outputs": [
    {
     "name": "stdout",
     "output_type": "stream",
     "text": [
      "Pandas Query Result:\n",
      "                                Genre  Rating\n",
      "0         Comedy|Crime|Drama|Thriller     5.0\n",
      "2                               Drama     5.0\n",
      "3                    Comedy|Drama|War     5.0\n",
      "5               Drama|Musical|Romance     4.0\n",
      "8                               Drama     5.0\n",
      "...                               ...     ...\n",
      "25000088   Adventure|Children|Fantasy     4.0\n",
      "25000089    Animation|Children|Comedy     4.5\n",
      "25000090     Animation|Children|Drama     4.5\n",
      "25000093      Action|Crime|Drama|IMAX     4.0\n",
      "25000094                        Drama     5.0\n",
      "\n",
      "[12452811 rows x 2 columns]\n"
     ]
    }
   ],
   "source": [
    "print(\"Pandas Query Result:\")\n",
    "print(result_pandas)\n"
   ]
  },
  {
   "cell_type": "code",
   "execution_count": 32,
   "id": "22ecdfaf-c351-458b-b728-870f1a757340",
   "metadata": {},
   "outputs": [
    {
     "name": "stdout",
     "output_type": "stream",
     "text": [
      "Polars Query Result:\n",
      "shape: (12_452_811, 2)\n",
      "┌─────────────────────────────┬────────┐\n",
      "│ Genre                       ┆ Rating │\n",
      "│ ---                         ┆ ---    │\n",
      "│ str                         ┆ f64    │\n",
      "╞═════════════════════════════╪════════╡\n",
      "│ Comedy|Crime|Drama|Thriller ┆ 5.0    │\n",
      "│ Drama                       ┆ 5.0    │\n",
      "│ Comedy|Drama|War            ┆ 5.0    │\n",
      "│ Drama|Musical|Romance       ┆ 4.0    │\n",
      "│ Drama                       ┆ 5.0    │\n",
      "│ …                           ┆ …      │\n",
      "│ Adventure|Children|Fantasy  ┆ 4.0    │\n",
      "│ Animation|Children|Comedy   ┆ 4.5    │\n",
      "│ Animation|Children|Drama    ┆ 4.5    │\n",
      "│ Action|Crime|Drama|IMAX     ┆ 4.0    │\n",
      "│ Drama                       ┆ 5.0    │\n",
      "└─────────────────────────────┴────────┘\n"
     ]
    }
   ],
   "source": [
    "print(\"Polars Query Result:\")\n",
    "print(result_polars)"
   ]
  },
  {
   "cell_type": "code",
   "execution_count": null,
   "id": "fb40a05a-432a-4d6d-a38f-da3686b64d83",
   "metadata": {},
   "outputs": [],
   "source": []
  },
  {
   "cell_type": "code",
   "execution_count": 33,
   "id": "09fd9a16-1858-48e1-8996-d13c7f2690f9",
   "metadata": {},
   "outputs": [
    {
     "name": "stdout",
     "output_type": "stream",
     "text": [
      "Pandas Query Time: 1.0594635009765625 seconds\n",
      "Polars Query Time: 0.2368612289428711 seconds\n"
     ]
    }
   ],
   "source": [
    "# Output results\n",
    "print(f\"Pandas Query Time: {end_pandas - start_pandas} seconds\")\n",
    "print(f\"Polars Query Time: {end_polars - start_polars} seconds\")"
   ]
  },
  {
   "cell_type": "code",
   "execution_count": 37,
   "id": "535917f5-82be-41f0-b79b-ce3fb86c4737",
   "metadata": {},
   "outputs": [
    {
     "name": "stdout",
     "output_type": "stream",
     "text": [
      "Polars was 77.64% faster than Pandas.\n"
     ]
    }
   ],
   "source": [
    "percentage_faster = (((end_pandas - start_pandas) - (end_polars - start_polars)) / (end_pandas - start_pandas)) * 100\n",
    "\n",
    "print(f\"Polars was {percentage_faster:.2f}% faster than Pandas.\")"
   ]
  },
  {
   "cell_type": "code",
   "execution_count": null,
   "id": "1c7c5e64-8d5e-44b1-9e17-10d766e3c98c",
   "metadata": {},
   "outputs": [],
   "source": []
  },
  {
   "cell_type": "code",
   "execution_count": null,
   "id": "bcb207c3-2320-42e8-9ac2-02a19c08dd7f",
   "metadata": {},
   "outputs": [],
   "source": []
  },
  {
   "cell_type": "code",
   "execution_count": null,
   "id": "45090c5a-28ac-4fd2-a4c6-99d13e93d908",
   "metadata": {},
   "outputs": [],
   "source": []
  },
  {
   "cell_type": "code",
   "execution_count": null,
   "id": "9a1b346f-6d82-4ee4-b727-83b2ff51d1c1",
   "metadata": {},
   "outputs": [],
   "source": []
  }
 ],
 "metadata": {
  "kernelspec": {
   "display_name": "Python 3 (ipykernel)",
   "language": "python",
   "name": "python3"
  },
  "language_info": {
   "codemirror_mode": {
    "name": "ipython",
    "version": 3
   },
   "file_extension": ".py",
   "mimetype": "text/x-python",
   "name": "python",
   "nbconvert_exporter": "python",
   "pygments_lexer": "ipython3",
   "version": "3.9.12"
  }
 },
 "nbformat": 4,
 "nbformat_minor": 5
}
